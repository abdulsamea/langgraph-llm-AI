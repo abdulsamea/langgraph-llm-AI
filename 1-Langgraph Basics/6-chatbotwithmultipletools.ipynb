{
 "cells": [
  {
   "cell_type": "markdown",
   "id": "58fbf8a3",
   "metadata": {},
   "source": [
    "### Building chtbot with multiple tools with Langgraph\n",
    "\n",
    "### Aim\n",
    "Create a chatbot with tool capabilities from arxiv, wikipedia and some custom functions."
   ]
  },
  {
   "cell_type": "code",
   "execution_count": 4,
   "id": "9aa2337e",
   "metadata": {},
   "outputs": [],
   "source": [
    "from langchain_community.tools import ArxivQueryRun, WikipediaQueryRun\n",
    "from langchain_community.utilities import WikipediaAPIWrapper, ArxivAPIWrapper"
   ]
  },
  {
   "cell_type": "code",
   "execution_count": 5,
   "id": "d1a8305a",
   "metadata": {},
   "outputs": [
    {
     "name": "stdout",
     "output_type": "stream",
     "text": [
      "arxiv\n"
     ]
    }
   ],
   "source": [
    "api_wrapper_arxiv=ArxivAPIWrapper(top_k_results=2, doc_content_chars_max=500)\n",
    "arxiv=ArxivQueryRun(api_wrapper=api_wrapper_arxiv)\n",
    "print(arxiv.name)"
   ]
  },
  {
   "cell_type": "code",
   "execution_count": 6,
   "id": "b848df7a",
   "metadata": {},
   "outputs": [
    {
     "data": {
      "text/plain": [
       "\"Published: 2024-07-22\\nTitle: Attention Is All You Need But You Don't Need All Of It For Inference of Large Language Models\\nAuthors: Georgy Tyukin, Gbetondji J-S Dovonon, Jean Kaddour, Pasquale Minervini\\nSummary: The inference demand for LLMs has skyrocketed in recent months, and serving\\nmodels with low latencies remains challenging due to the quadratic input length\\ncomplexity of the attention layers. In this work, we investigate the effect of\\ndropping MLP and attention layers at inference time o\""
      ]
     },
     "execution_count": 6,
     "metadata": {},
     "output_type": "execute_result"
    }
   ],
   "source": [
    "arxiv.invoke(\"Attention is all you need\")"
   ]
  },
  {
   "cell_type": "code",
   "execution_count": 8,
   "id": "699fccbb",
   "metadata": {},
   "outputs": [
    {
     "name": "stdout",
     "output_type": "stream",
     "text": [
      "wikipedia\n"
     ]
    }
   ],
   "source": [
    "api_wrapper_wiki=WikipediaAPIWrapper(top_k_results=2, doc_content_chars_max=500)\n",
    "wiki=WikipediaQueryRun(api_wrapper=api_wrapper_wiki)\n",
    "print(wiki.name)"
   ]
  },
  {
   "cell_type": "code",
   "execution_count": 9,
   "id": "8029b33b",
   "metadata": {},
   "outputs": [
    {
     "data": {
      "text/plain": [
       "'Page: Pasta\\nSummary: Pasta (UK: , US: ; Italian: [ˈpasta]) is a type of food typically made from an unleavened dough of wheat flour mixed with water or eggs, and formed into sheets or other shapes, then cooked by boiling or baking. Pasta was originally only made with durum, although the definition has been expanded to include alternatives for a gluten-free diet, such as rice flour, or legumes such as beans or lentils. Pasta is believed to have developed independently in Italy and is a staple foo'"
      ]
     },
     "execution_count": 9,
     "metadata": {},
     "output_type": "execute_result"
    }
   ],
   "source": [
    "wiki.invoke(\"What is a pasta?\")"
   ]
  },
  {
   "cell_type": "code",
   "execution_count": 12,
   "id": "5a1e81ab",
   "metadata": {},
   "outputs": [],
   "source": [
    "from dotenv import load_dotenv\n",
    "load_dotenv()\n",
    "\n",
    "import os\n",
    "os.environ[\"TAVILY_API_KEY\"]=os.getenv(\"TAVILY_API_KEY\")\n",
    "os.environ[\"GROQ_API_KEY\"]=os.getenv(\"GROQ_API_KEY\")"
   ]
  },
  {
   "cell_type": "code",
   "execution_count": 16,
   "id": "c69fbe26",
   "metadata": {},
   "outputs": [],
   "source": [
    "### load Tavily search tool\n",
    "from langchain_community.tools.tavily_search import TavilySearchResults\n",
    "\n",
    "tavily = TavilySearchResults()"
   ]
  },
  {
   "cell_type": "code",
   "execution_count": 17,
   "id": "5d680e8f",
   "metadata": {},
   "outputs": [
    {
     "data": {
      "text/plain": [
       "[{'title': 'FIFA Club World Cup News, Stats, Scores - ESPN',\n",
       "  'url': 'https://www.espn.com/soccer/league/_/name/fifa.cwc',\n",
       "  'content': '| Group A | GP | W | D | L | GD | P |\\n| --- | --- | --- | --- | --- | --- | --- |\\n| Palmeiras | 3 | 1 | 2 | 0 | +2 | 5 |\\n| Inter Miami CF | 3 | 1 | 2 | 0 | +1 | 5 |\\n| FC Porto | 3 | 0 | 2 | 1 | -1 | 2 |\\n| Al Ahly | 3 | 0 | 2 | 1 | -2 | 2 |\\n| Group B | GP | W | D | L | GD | P |\\n| --- | --- | --- | --- | --- | --- | --- |\\n| Paris Saint-Germain | 3 | 2 | 0 | 1 | +5 | 6 |\\n| Botafogo | 3 | 2 | 0 | 1 | +1 | 6 |\\n| Atlético Madrid | 3 | 2 | 0 | 1 | -1 | 6 | [...] | Fluminense | 3 | 1 | 2 | 0 | +2 | 5 |\\n| Mamelodi Sundowns | 3 | 1 | 1 | 1 | 0 | 4 |\\n| Ulsan HD | 3 | 0 | 0 | 3 | -4 | 0 |\\n| Group G | GP | W | D | L | GD | P |\\n| --- | --- | --- | --- | --- | --- | --- |\\n| Manchester City | 3 | 3 | 0 | 0 | +11 | 9 |\\n| Juventus | 3 | 2 | 0 | 1 | +5 | 6 |\\n| Al Ain | 3 | 1 | 0 | 2 | -10 | 3 |\\n| Wydad AC | 3 | 0 | 0 | 3 | -6 | 0 |\\n| Group H | GP | W | D | L | GD | P |\\n| --- | --- | --- | --- | --- | --- | --- |\\n| Real Madrid | 3 | 2 | 1 | 0 | +5 | 7 | [...] | Seattle Sounders FC | 3 | 0 | 0 | 3 | -5 | 0 |\\n| Group C | GP | W | D | L | GD | P |\\n| --- | --- | --- | --- | --- | --- | --- |\\n| Benfica | 3 | 2 | 1 | 0 | +7 | 7 |\\n| Bayern Munich | 3 | 2 | 0 | 1 | +10 | 6 |\\n| Boca Juniors | 3 | 0 | 2 | 1 | -1 | 2 |\\n| Auckland City | 3 | 0 | 1 | 2 | -16 | 1 |\\n| Group D | GP | W | D | L | GD | P |\\n| --- | --- | --- | --- | --- | --- | --- |\\n| Flamengo | 3 | 2 | 1 | 0 | +4 | 7 |\\n| Chelsea | 3 | 2 | 0 | 1 | +3 | 6 |',\n",
       "  'score': 0.67269784},\n",
       " {'title': 'FIFA Club World Cup 2025: Chelsea crowned champions',\n",
       "  'url': 'https://www.olympics.com/en/news/football-fifa-club-world-cup-2025-schedule-results-scores-standings',\n",
       "  'content': '|\\n|  |\\n| Team | Matches played | Matches won | Matches drawn | Matches lost | Goals scored | Goals conceded | Goal difference | Points |\\n| 1. Real Madrid | 3 | 2 | 1 | 0 | 7 | 2 | 5 | 7 |\\n| 2. Al-Hilal | 3 | 1 | 2 | 0 | 3 | 1 | 2 | 5 |\\n| 3. FC Salzburg | 3 | 1 | 1 | 1 | 2 | 4 | -2 | 4 |\\n| 4. Pachuca | 3 | 0 | 0 | 3 | 2 | 7 | -5 | 0 |\\n\\n### FIFA Club World Cup 2025 - Group H fixtures\\n\\nAll times listed in local times: EDT (GMT-4), CDT (GMT-5), PDT (GMT-7)\\n\\nWednesday, 18 June\\n\\nSunday, 22 June [...] Chelsea have been crowned champions of the the FIFA Club World Cup 2025 after they beat Paris Saint-Germain 3-0 in the final on Sunday (13 July) in New Jersey.\\n\\nThe event, which took place in 12 venues across 11 cities in the USA, saw many of the best teams in men’s club football compete for the trophy between 14 June-13 July 2025.\\n\\nFor the first time, the tournament featured 32 clubs, in the same format used in the FIFA World Cup. [...] All times listed in local times: EDT (GMT-4), CDT (GMT-5), PDT (GMT-7)\\n\\n## Round of 16\\n\\n### Saturday, 28 June\\n\\n### Sunday, 29 June\\n\\n### Monday, 30 June\\n\\n### Tuesday, 1 July\\n\\n## Quarter-finals\\n\\n### Friday, 4 July\\n\\n### Saturday, 5 July\\n\\n## Semi-finals\\n\\n### Tuesday, 8 July\\n\\n### Wednesday, 9 July\\n\\n## Final\\n\\n### Sunday, 13 July\\n\\nApp Store\\nGoogle Play',\n",
       "  'score': 0.657297},\n",
       " {'title': 'Cole Palmer leads Chelsea to dominant victory over PSG to win ...',\n",
       "  'url': 'https://www.cnn.com/2025/07/13/sport/chelsea-psg-fifa-club-world-cup-final-spt',\n",
       "  'content': \"As tensions cooled, US President Donald Trump and FIFA president Gianni Infantino led the trophy celebration on the field, with scattered booing from some fans in the stadium.\\n\\nPalmer was awarded the Golden Ball Award - given to the best player of the tournament.\\n\\nChelsea goalkeeper Robert Sánchez took home the Golden Glove award and 20-year-old PSG forward Désiré Doué was named the best young player of the tournament. [...] ### CNN values your feedback\\n\\n# Cole Palmer leads Chelsea to dominant victory over PSG to win FIFA Club World Cup\\n\\nPatrick Snell\\n\\nFollow:\\n\\nChelsea defeated PSG 3-0 to win the club's second-ever FIFA Club World Cup title on Sunday in New Jersey.\\n\\nChelsea delivered a shocking 3-0 win over Paris Saint-Germain in the FIFA Club World Cup final on Sunday in East Rutherford, New Jersey. [...] Chelsea players lift the Club World Cup trophy along with President Donald Trump and FIFA president Gianni Infantino.\\n\\nWith Trump and Infantino in the middle of the stage, the Chelsea squad lifted the trophy to officially celebrate the win.\\n\\nAfter the match, Enrique said he was trying to separate the players.\\n\\n“There is a lot of tension, and a lot of pressure. … There was a whole bunch of pushing going on,” Enrique said through a translator, according to the AP.\",\n",
       "  'score': 0.61363083},\n",
       " {'title': '2025 FIFA Club World Cup Standings - ESPN',\n",
       "  'url': 'https://www.espn.com/soccer/standings/_/league/fifa.cwc',\n",
       "  'content': \"Positions 1, 2: Qualifies for round of 16\\n\\n### Glossary\\n\\n### Club World Cup News\\n\\nMaresca; We're proud to be FIFA Club World Cup Champions\\n\\n## Maresca; We're proud to be FIFA Club World Cup Champions\\n\\nEnrique: We're runners-up not losers\\n\\n## Enrique: We're runners-up not losers\\n\\nClub World Cup triumph shows Chelsea can win the Premier League\\n\\n## Club World Cup triumph shows Chelsea can win the Premier League\\n\\nESPN [...] | 3 | 1 | 1 | 1 | 4 | 4 | 0 | 4 |\\n| 3 | 0 | 0 | 3 | 2 | 6 | -4 | 0 |\\n| GP | W | D | L | F | A | GD | P |\\n| 3 | 3 | 0 | 0 | 13 | 2 | +11 | 9 |\\n| 3 | 2 | 0 | 1 | 11 | 6 | +5 | 6 |\\n| 3 | 1 | 0 | 2 | 2 | 12 | -10 | 3 |\\n| 3 | 0 | 0 | 3 | 2 | 8 | -6 | 0 |\\n| GP | W | D | L | F | A | GD | P |\\n| 3 | 2 | 1 | 0 | 7 | 2 | +5 | 7 |\\n| 3 | 1 | 2 | 0 | 3 | 1 | +2 | 5 |\\n| 3 | 1 | 1 | 1 | 2 | 4 | -2 | 4 |\\n| 3 | 0 | 0 | 3 | 2 | 7 | -5 | 0 | [...] | 3RIVRIVRiver Plate |\\n| 4URAURAUrawa Red Diamonds |\\n| Group F |\\n| 1DORDORBorussia Dortmund |\\n| 2FLUFLUFluminense |\\n| 3MSUMSUMamelodi Sundowns |\\n| 4ULSULSUlsan HD |\\n| Group G |\\n| 1MNCMNCManchester City |\\n| 2JUVJUVJuventus |\\n| 3AlNAlNAl Ain |\\n| 4WYDWYDWydad AC |\\n| Group H |\\n| 1RMARMAReal Madrid |\\n| 2HILHILAl Hilal |\\n| 3SLZSLZRB Salzburg |\\n| 4PACPACPachuca |\",\n",
       "  'score': 0.52758485},\n",
       " {'title': '2025 FIFA Club World Cup Standings & Table - FOX Sports',\n",
       "  'url': 'https://www.foxsports.com/soccer/fifa-club-world-cup/standings',\n",
       "  'content': 'POPULAR SEARCHES\\n\\nBROWSE BY\\n\\nDatabricks\\nFIFA CLUB WORLD CUP\\n\\n# FIFA CLUB WORLD CUP STANDINGS\\n\\n## NEWS\\n\\n## SCORES\\n\\n## STANDINGS\\n\\n## SCHEDULE\\n\\n## STATS\\n\\n## ODDS\\n\\n## VIDEOS\\n\\n## TEAMS\\n\\n## MORE LEAGUES\\n\\n## 2025 FIFA CLUB WORLD CUP STANDINGS [...] | GROUP A | | MP | PTS | W-D-L | GF | GA | GD | HOME | AWAY |\\n| --- | --- | --- | --- | --- | --- | --- | --- | --- | --- |\\n| 1 | Palmeiras Palmeiras | 3 | 5 | 1-2-0 | 4 | 2 | 2 | 0-0-0 | 0-0-0 |\\n| 2 | Inter Miami CF Inter Miami CF | 3 | 5 | 1-2-0 | 4 | 3 | 1 | 0-0-0 | 0-0-0 |\\n| 3 | FC Porto FC Porto | 3 | 2 | 0-2-1 | 5 | 6 | -1 | 0-0-0 | 0-0-0 |\\n| 4 | Default Logo Al Ahly | 3 | 2 | 0-2-1 | 4 | 6 | -2 | 0-0-0 | 0-0-0 |\\n\\n## GROUP A\\n\\nPalmeiras\\nInter Miami CF\\nFC Porto\\nDefault Logo [...] | GROUP G | | MP | PTS | W-D-L | GF | GA | GD | HOME | AWAY |\\n| --- | --- | --- | --- | --- | --- | --- | --- | --- | --- |\\n| 1 | Man. City Man. City | 3 | 9 | 3-0-0 | 13 | 2 | 11 | 0-0-0 | 0-0-0 |\\n| 2 | Juventus Juventus | 3 | 6 | 2-0-1 | 11 | 6 | 5 | 0-0-0 | 0-0-0 |\\n| 3 | Default Logo Al Ain | 3 | 3 | 1-0-2 | 2 | 12 | -10 | 0-0-0 | 0-0-0 |\\n| 4 | Default Logo Wydad Athletic Club | 3 | 0 | 0-0-3 | 2 | 8 | -6 | 0-0-0 | 0-0-0 |\\n\\n## GROUP G\\n\\nMan. City\\nJuventus\\nDefault Logo\\nDefault Logo',\n",
       "  'score': 0.5183761}]"
      ]
     },
     "execution_count": 17,
     "metadata": {},
     "output_type": "execute_result"
    }
   ],
   "source": [
    "tavily.invoke(\"Hey, provide me current FIFA club world cup news.\")"
   ]
  },
  {
   "cell_type": "code",
   "execution_count": 18,
   "id": "d73fa825",
   "metadata": {},
   "outputs": [],
   "source": [
    "### COmbine all tools\n",
    "\n",
    "tools=[arxiv, wiki, tavily]"
   ]
  },
  {
   "cell_type": "code",
   "execution_count": 23,
   "id": "f21a8c04",
   "metadata": {},
   "outputs": [],
   "source": [
    "## Initialize my LLM model\n",
    "\n",
    "from langchain_groq import ChatGroq\n",
    "\n",
    "llm=ChatGroq(model=\"qwen/qwen3-32b\")\n",
    "llm_with_tools=llm.bind_tools(tools)"
   ]
  },
  {
   "cell_type": "code",
   "execution_count": 27,
   "id": "c2515a5a",
   "metadata": {},
   "outputs": [
    {
     "name": "stdout",
     "output_type": "stream",
     "text": [
      "AIMessage(content='', additional_kwargs={'reasoning_content': 'Okay, the user is asking who the current FIFA Club World Cup champion is. I need to figure out the most up-to-date information. First, I should check if I have any functions that can provide this information. The available tools are arxiv, wikipedia, and tavily_search_results_json.\\n\\nThe arxiv function is for academic papers, which probably isn\\'t relevant here. Wikipedia might have historical data, but maybe not the latest results. The tavily_search_results_json seems like a search engine that can fetch recent information. \\n\\nSo, I should use tavily_search_results_json with a query like \"current FIFA Club World Cup champion\" or \"2023 FIFA Club World Cup winner\". That should give the latest champion. Let me make sure the query is specific enough. The user wants the current one, so including the year might help. But maybe the search function can handle it without the year. \\n\\nAlternatively, checking the most recent data up to 2023. The FIFA Club World Cup was last held in 2023. The winner of the 2023 Club World Cup was Fluminense from Brazil. But wait, I should confirm this. Let me use the tavily_search to verify. \\n\\nSo the correct function call would be using tavily_search_results_json with the query \"current FIFA Club World Cup champion\". That should retrieve the latest information.\\n', 'tool_calls': [{'id': 'mjbdybh16', 'function': {'arguments': '{\"query\":\"current FIFA Club World Cup champion\"}', 'name': 'tavily_search_results_json'}, 'type': 'function'}]}, response_metadata={'token_usage': {'completion_tokens': 317, 'prompt_tokens': 270, 'total_tokens': 587, 'completion_time': 0.60105513, 'prompt_time': 0.010398311, 'queue_time': 0.065832589, 'total_time': 0.611453441}, 'model_name': 'qwen/qwen3-32b', 'system_fingerprint': 'fp_f17c2eb555', 'service_tier': 'on_demand', 'finish_reason': 'tool_calls', 'logprobs': None}, id='run--12e14de8-7f28-410f-baaa-0a1040796c52-0', tool_calls=[{'name': 'tavily_search_results_json', 'args': {'query': 'current FIFA Club World Cup champion'}, 'id': 'mjbdybh16', 'type': 'tool_call'}], usage_metadata={'input_tokens': 270, 'output_tokens': 317, 'total_tokens': 587})\n",
      "\n",
      "Tool calls:\n",
      "[{'args': {'query': 'current FIFA Club World Cup champion'},\n",
      "  'id': 'mjbdybh16',\n",
      "  'name': 'tavily_search_results_json',\n",
      "  'type': 'tool_call'}]\n"
     ]
    }
   ],
   "source": [
    "from pprint import pprint\n",
    "from langchain_core.messages import AIMessage, HumanMessage\n",
    "\n",
    "response=llm_with_tools.invoke([HumanMessage(content=f\"Who is the current FIFA club world cup champion?\")])\n",
    "\n",
    "# Use pprint to explore the response object\n",
    "pprint(response)\n",
    "\n",
    "# If the model decided to call tools, they will be inside `tool_calls`\n",
    "if hasattr(response, \"tool_calls\"):\n",
    "    print(\"\\nTool calls:\")\n",
    "    pprint(response.tool_calls)\n",
    "else:\n",
    "    print(\"\\nNo tool calls made.\")"
   ]
  },
  {
   "cell_type": "code",
   "execution_count": 28,
   "id": "f732834e",
   "metadata": {},
   "outputs": [],
   "source": [
    "## State Schema\n",
    "from typing_extensions import TypedDict\n",
    "from langchain_core.messages import AnyMessage\n",
    "from langgraph.graph.message import add_messages\n",
    "from typing import Annotated\n",
    "\n",
    "class State(TypedDict):\n",
    "    messages:Annotated[list[AnyMessage],add_messages]\n",
    "    "
   ]
  },
  {
   "cell_type": "code",
   "execution_count": 33,
   "id": "e104712d",
   "metadata": {},
   "outputs": [],
   "source": [
    "### Entire CHatbot With Laggraph\n",
    "\n",
    "from IPython.display import Image, display\n",
    "from langgraph.graph import StateGraph, START, END\n",
    "from langgraph.prebuilt import ToolNode, tools_condition\n",
    "\n",
    "### Node definition\n",
    "def tool_calling_llm(state:State):\n",
    "    return {\"messages\":[llm_with_tools.invoke(state[\"messages\"])]}\n",
    "\n",
    "\n",
    "#Build graph\n",
    "builder= StateGraph(State)\n",
    "builder.add_node(\"tool_calling_llm\", tool_calling_llm)\n",
    "builder.add_node(\"tools\", ToolNode(tools))\n",
    "\n",
    "builder.add_edge(START, \"tool_calling_llm\")\n",
    "builder.add_conditional_edges(\n",
    "    \"tool_calling_llm\",\n",
    "    # If the latest message (result) from assistant is a tool call -> tools_condition routes to tools\n",
    "    # If the latest message (result) from assistant is a not a tool call -> tools_condition routes to END\n",
    "    tools_condition,\n",
    ")\n",
    "builder.add_edge(\"tools\", END)\n",
    "\n",
    "graph = builder.compile()"
   ]
  },
  {
   "cell_type": "code",
   "execution_count": 34,
   "id": "6d87fdb8",
   "metadata": {},
   "outputs": [
    {
     "data": {
      "image/png": "[encoded data removed]",
      "text/plain": [
       "<IPython.core.display.Image object>"
      ]
     },
     "metadata": {},
     "output_type": "display_data"
    }
   ],
   "source": [
    "display(Image(graph.get_graph().draw_mermaid_png()))"
   ]
  },
  {
   "cell_type": "code",
   "execution_count": null,
   "id": "6d35b800",
   "metadata": {},
   "outputs": [
    {
     "name": "stdout",
     "output_type": "stream",
     "text": [
      "================================\u001b[1m Human Message \u001b[0m=================================\n",
      "\n",
      "What is lateest transfer news on Man utd\n",
      "==================================\u001b[1m Ai Message \u001b[0m==================================\n",
      "Tool Calls:\n",
      "  tavily_search_results_json (zj2t4j88g)\n",
      " Call ID: zj2t4j88g\n",
      "  Args:\n",
      "    query: latest Manchester United transfer news\n",
      "=================================\u001b[1m Tool Message \u001b[0m=================================\n",
      "Name: tavily_search_results_json\n",
      "\n",
      "[{\"title\": \"Manchester United need two transfers to confirm vital agreement for ...\", \"url\": \"https://www.manchestereveningnews.co.uk/sport/football/transfer-news/manchester-united-need-two-transfers-32050144\", \"content\": \"Manchester Evening News\\n\\n# Manchester United need two transfers to confirm vital agreement for Bryan Mbeumo transfer\\n\\n## Latest Manchester United transfer news and gossip as another club's business may affect United's chances of signing Bryan Mbeumo\\n\\nBryan Mbeumo of Brentford is a target for Manchester United\\n\\nManchester United are still looking to complete a deal for Brentford star Bryan Mbeumo as their next summer signing. [...] There is still plenty of time left for United to complete their transfer business, with the summer transfer window closing on September 1. However, there have been some concerns over the last couple of weeks about the potential delay in reaching an agreement to sign Mbeumo. [...] United have already added Matheus Cunha to their ranks this summer in a £62.5million deal from Wolves. Now it seems that Mbeumo is the next target that United will be looking to bring to Old Trafford ahead of Ruben Amorim's first full season as the new head coach.\", \"score\": 0.82391036}, {\"title\": \"Manchester United transfer ins and outs summer window 2025\", \"url\": \"https://www.manutd.com/en/news/detail/manchester-united-transfer-ins-and-outs-summer-window-2025\", \"content\": \"Adidas\\nSnapdragon\\nDXC\\n\\n# United transfer ins and outs: Summer 2025\\n\\nOld Trafford. \\n\\nHere is your guide to Manchester United's transfer activity during the summer window of 2025.\\n\\nUp until the deadline at 20:00 BST on 1 September, the Reds are able to buy and sell players as Ruben Amorim's squad takes shape.\\n\\nMatheus Cunha was the first arrival, signing from Wolves, before Diego Leon completed his switch from Cerro Porteno. [...] Enzo Kana-Biyik signed as a free agent from Le Havre but was loaned out to Lausanne-Sport in Switzerland for the season.\\n\\n## ALWAYS UNITED: THE NEW KIT adcard\\n\\nOn the outgoing front, Christian Eriksen, Jonny Evans and Victor Lindelof departed at the end of their contracts.\\n\\nEvans, though, is remaining at the club, following his retirement, after being appointed head of loans and pathways.\\n\\nTom Heaton signed a fresh one-year deal. [...] Sam Murray completed a move to Carlisle United, playing under former Reds striker Mark Hughes.\\n\\nINS\\n\\nMatheus Cunha - Wolverhampton Wanderers - Permanent  \\nEnzo Kana-Biyik - Le Havre (free agent) - Permanent  \\nDiego Leon - Cerro Porteno - Permanent\\n\\n## NEW ANTHEM JACKET adcard\\n\\nOUTS\", \"score\": 0.7975099}, {\"title\": \"2025 Manchester United Transfers - ESPN\", \"url\": \"https://www.espn.com/soccer/team/transfers/_/id/360/manchester-united\", \"content\": \"| DATE | Player | TO | FEE |\\n| --- | --- | --- | --- |\\n| Jul 10 | Sonny Aljofree | NOTTNOTT | Loan |\\n| Feb 4 | Tyrell Malacia | PSVPSV | Loan |\\n| Feb 3 | Louis Jackson | TRNTRN | Loan |\\n| Feb 3 | Sam Mather | TRNTRN | Loan |\\n| Feb 2 | Marcus Rashford | AVLAVL | Loan |\\n| Jan 31 | Daniel Gore | ROTROT | Loan |\\n| Jan 25 | Antony | BETBET | Loan |\\n| Jan 24 | Ethan Wheatley | WALWAL | Loan |\\n| Jan 10 | Ethan Ennis | DONDON | Loan |\\n\\n### Transfers News [...] ESPN+\\nESPN BET\\nManchester United\\n\\n# Manchester United\\n\\n# Manchester United Transfers\\n\\n### Players In\\n\\n| DATE | Player | FROM | FEE |\\n| --- | --- | --- | --- |\\n| Jul 5 | Diego León | Cerro PorteñoCerro Porteño | Undisclosed |\\n| Jun 16 | Matheus Cunha | WOLWOL | Undisclosed |\\n| Feb 2 | Patrick Dorgu | LECLEC | Undisclosed |\\n| Feb 1 | Ayden Heaven | ARSARS | Undisclosed |\\n\\n### Players Out\", \"score\": 0.77893573}, {\"title\": \"Man United News, MUFC Transfer News & Rumours - NewsNow\", \"url\": \"https://www.newsnow.com/us/Sports/Soccer/Premier+League/Manchester+United\", \"content\": \"NewsNow aims to be the world's most accurate and comprehensive Manchester United news aggregator, bringing you the latest Red Devils headlines from the best Man United sites and other key national and international news sources. Whether it's the very latest transfer news from Old Trafford, quotes from an Ruben Amorim press conference, match previews and reports, or news about United's progress in the Premier League and in Europe, we've got it covered.\\n\\n#### News Now\\n\\n#### Our Sites [...] NewsNow\\n\\n# Manchester United  Share\\n\\nShare\\n\\n## Latest\\n\\n#### About our Manchester United news\\n\\nThe latest Manchester United news, transfer rumours, team news, managerial speculation and more from Old Trafford. Breaking MUFC rumours and news now, 24/7. [...] However, the current season has brought significant challenges. Erik ten Hag oversaw the club's worst start to a league season since 1962 and was subsequently sacked. Ruud van Nistelrooy was placed in interim charge before the club took the decision to hire Sporting Lisbon's Ruben Amorim. Off the field, the club has undergone significant changes following Sir Jim Ratcliffe's partial takeover and his company Ineos taking control of football operations. The Glazers remain as majority\", \"score\": 0.75659186}, {\"title\": \"Man Utd transfer news, rumours and gossip: Live ... - Sky Sports\", \"url\": \"https://www.skysports.com/football/live-blog/11095/13025492/man-utd-transfer-news-rumours-and-gossip-live-updates-and-latest-on-deals-signings-loans-and-contracts\", \"content\": \"#### Domestic Leagues\\n\\n#### Europe\\n\\n#### Internationals\\n\\n#### Domestic Cups\\n\\n#### National Leagues\\n\\n# Man Utd transfer news, rumours and gossip: Live updates and latest on deals, signings, loans and contracts\\n\\nSunday 13 July 2025 22:50, UK\\n\\nSorry, this blog is currently unavailable. Please try again later.\\n\\nPowered by Live center\\nPowered by Live center\\n\\n## Around Sky\\n\\nDO NOT USE\\n\\n### Upgrade to Sky Sports\\n\\nFOR 'NOW' PROMO SPACE ON WEB\\n\\n### Not got Sky? Get instant access to Sky Sports with NOW\", \"score\": 0.7539928}]\n"
     ]
    }
   ],
   "source": [
    "## invocation\n",
    "\n",
    "messages=graph.invoke({\"messages\":\"What is latest transfer news on Man utd\"})\n",
    "\n",
    "for message in messages[\"messages\"]:\n",
    "    message.pretty_print()"
   ]
  },
  {
   "cell_type": "code",
   "execution_count": 36,
   "id": "1d08126b",
   "metadata": {},
   "outputs": [
    {
     "name": "stdout",
     "output_type": "stream",
     "text": [
      "================================\u001b[1m Human Message \u001b[0m=================================\n",
      "\n",
      "give some info on Harry Potter\n",
      "==================================\u001b[1m Ai Message \u001b[0m==================================\n",
      "Tool Calls:\n",
      "  wikipedia (fe90y91gv)\n",
      " Call ID: fe90y91gv\n",
      "  Args:\n",
      "    query: Harry Potter\n",
      "=================================\u001b[1m Tool Message \u001b[0m=================================\n",
      "Name: wikipedia\n",
      "\n",
      "Page: Harry Potter\n",
      "Summary: Harry Potter is a series of seven fantasy novels written by British author J. K. Rowling. The novels chronicle the lives of a young wizard, Harry Potter, and his friends, Ron Weasley and Hermione Granger, all of whom are students at Hogwarts School of Witchcraft and Wizardry. The main story arc concerns Harry's conflict with Lord Voldemort, a dark wizard who intends to become immortal, overthrow the wizard governing body known as the Ministry of Magic, and subjugate a\n"
     ]
    }
   ],
   "source": [
    "## invocation\n",
    "\n",
    "messages=graph.invoke({\"messages\":\"give some info on Harry Potter\"})\n",
    "\n",
    "for message in messages[\"messages\"]:\n",
    "    message.pretty_print()"
   ]
  },
  {
   "cell_type": "code",
   "execution_count": null,
   "id": "382c01bb",
   "metadata": {},
   "outputs": [],
   "source": [
    "## invocation\n",
    "\n",
    "messages=graph.invoke({\"messages\":\"High Energy Physics\"})\n",
    "\n",
    "for message in messages[\"messages\"]:\n",
    "    message.pretty_print()"
   ]
  }
 ],
 "metadata": {
  "kernelspec": {
   "display_name": "Python 3",
   "language": "python",
   "name": "python3"
  },
  "language_info": {
   "codemirror_mode": {
    "name": "ipython",
    "version": 3
   },
   "file_extension": ".py",
   "mimetype": "text/x-python",
   "name": "python",
   "nbconvert_exporter": "python",
   "pygments_lexer": "ipython3",
   "version": "3.12.0"
  }
 },
 "nbformat": 4,
 "nbformat_minor": 5
}
